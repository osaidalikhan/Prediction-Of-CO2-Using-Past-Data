{
  "nbformat": 4,
  "nbformat_minor": 0,
  "metadata": {
    "colab": {
      "name": "(CO2) POLYNOMINAL REGRESSION.ipynb",
      "provenance": [],
      "collapsed_sections": []
    },
    "kernelspec": {
      "name": "python3",
      "display_name": "Python 3"
    },
    "language_info": {
      "name": "python"
    }
  },
  "cells": [
    {
      "cell_type": "code",
      "execution_count": null,
      "metadata": {
        "id": "oF65LX_XJ2IV"
      },
      "outputs": [],
      "source": [
        "import numpy as np\n",
        "import pandas as pd\n",
        "import matplotlib.pyplot as plt"
      ]
    },
    {
      "cell_type": "code",
      "source": [
        "dataset = pd.read_csv(\"/content/global_co2.csv\")\n",
        "dataset "
      ],
      "metadata": {
        "id": "5mLLUf1aKXA7"
      },
      "execution_count": null,
      "outputs": []
    },
    {
      "cell_type": "code",
      "source": [
        "dataset = dataset.dropna()\n",
        "dataset"
      ],
      "metadata": {
        "id": "0i3Iwhb-VLnY"
      },
      "execution_count": null,
      "outputs": []
    },
    {
      "cell_type": "markdown",
      "source": [
        "DATA PRE-PROCESSING"
      ],
      "metadata": {
        "id": "cM0OXmP2NwRp"
      }
    },
    {
      "cell_type": "code",
      "source": [
        "X = dataset.iloc[:,0:1].values\n",
        "y = dataset.iloc[:,7:8].values"
      ],
      "metadata": {
        "id": "eq040JxZL1ZI"
      },
      "execution_count": null,
      "outputs": []
    },
    {
      "cell_type": "code",
      "source": [
        "X"
      ],
      "metadata": {
        "id": "9Q4mne0uL4uS"
      },
      "execution_count": null,
      "outputs": []
    },
    {
      "cell_type": "code",
      "source": [
        "y"
      ],
      "metadata": {
        "id": "YCZc66NJL6NQ"
      },
      "execution_count": null,
      "outputs": []
    },
    {
      "cell_type": "code",
      "source": [
        "#SPLITTING DATA SET INTO TRAIN AND TEST\n",
        "from sklearn.model_selection import train_test_split\n",
        "X_train, X_test, y_train, y_test = train_test_split(X, y, test_size = 1/3 , random_state = 0)"
      ],
      "metadata": {
        "id": "av2IpZ4HKWSj"
      },
      "execution_count": null,
      "outputs": []
    },
    {
      "cell_type": "markdown",
      "source": [
        "FITTING"
      ],
      "metadata": {
        "id": "eolbK116Ochp"
      }
    },
    {
      "cell_type": "code",
      "source": [
        "from sklearn.linear_model import LinearRegression\n",
        "regressor = LinearRegression()\n",
        "regressor.fit(X_train, y_train)"
      ],
      "metadata": {
        "id": "PVS_PV_EKzJz"
      },
      "execution_count": null,
      "outputs": []
    },
    {
      "cell_type": "markdown",
      "source": [
        "PLOTTING"
      ],
      "metadata": {
        "id": "rokqD7brP135"
      }
    },
    {
      "cell_type": "code",
      "source": [
        "plt.scatter(X_train, y_train,color=\"red\")\n",
        "plt.plot(X_train,regressor.predict(X_train),color=\"blue\")\n",
        "plt.title(\"Globaal Production of CO2(Training set)\")\n",
        "plt.xlabel(\"Years\")\n",
        "plt.ylabel(\"Production per capita\")\n",
        "plt.show()"
      ],
      "metadata": {
        "id": "6KvAaRu5LDkl"
      },
      "execution_count": null,
      "outputs": []
    },
    {
      "cell_type": "markdown",
      "source": [
        "APPLYING POLYNOMIAL REGRESSION"
      ],
      "metadata": {
        "id": "4JtwQ6RrQvqn"
      }
    },
    {
      "cell_type": "code",
      "source": [
        "from sklearn.preprocessing import PolynomialFeatures\n",
        "poly_reg = PolynomialFeatures(degree = 3)\n",
        "X_poly = poly_reg.fit_transform(X)\n",
        "poly_reg.fit(X_poly, y)\n",
        "lin_reg_2 = LinearRegression()\n",
        "lin_reg_2.fit(X_poly, y)"
      ],
      "metadata": {
        "id": "NYK89633ORnb"
      },
      "execution_count": null,
      "outputs": []
    },
    {
      "cell_type": "markdown",
      "source": [
        "AGAIN PLOTTING"
      ],
      "metadata": {
        "id": "CR7Zk1CjSHo2"
      }
    },
    {
      "cell_type": "code",
      "source": [
        "plt.scatter(X_train, y_train,color=\"red\")\n",
        "plt.plot(X_train,regressor.predict(X_train),color=\"blue\")\n",
        "plt.title(\"Globaal Production of CO2(Training set)\")\n",
        "plt.xlabel(\"Years\")\n",
        "plt.ylabel(\"Production per capita\")\n",
        "plt.show()"
      ],
      "metadata": {
        "id": "MVSGphLcOTl_"
      },
      "execution_count": null,
      "outputs": []
    },
    {
      "cell_type": "code",
      "source": [
        "X_grid = np.arange(min(X),max(X),0.1)\n",
        "X_grid = X_grid.reshape(len(X_grid),1)\n",
        "plt.scatter(X, y, color=\"red\")\n",
        "plt.plot(X_grid, lin_reg_2.predict(poly_reg.fit_transform(X_grid)),color=\"blue\")\n",
        "plt.title(\"Global Production of CO2 (Polynomial Regression)\")\n",
        "plt.xlabel(\"Years\")\n",
        "plt.ylabel(\"Production per capita\")\n",
        "plt.show()"
      ],
      "metadata": {
        "id": "DaZPTyBLSQ6w"
      },
      "execution_count": null,
      "outputs": []
    },
    {
      "cell_type": "markdown",
      "source": [
        "PREDICTION"
      ],
      "metadata": {
        "id": "IfK4CY3JWLda"
      }
    },
    {
      "cell_type": "code",
      "source": [
        "y_pred = regressor.predict([[2013]])\n",
        "print(\"Global Production of CO2 in 2013 =\")\n",
        "print(y_pred)"
      ],
      "metadata": {
        "id": "BGmkjoV_WOeM"
      },
      "execution_count": null,
      "outputs": []
    },
    {
      "cell_type": "code",
      "source": [
        "y_pred = regressor.predict([[2012]])\n",
        "print(\"Global Production of CO2 in 2012 =\")\n",
        "print(y_pred)"
      ],
      "metadata": {
        "id": "DsrIG79NWnmR"
      },
      "execution_count": null,
      "outputs": []
    },
    {
      "cell_type": "code",
      "source": [
        "y_pred = regressor.predict([[2011]])\n",
        "print(\"Global Production of CO2 in 2011 =\")\n",
        "print(y_pred)"
      ],
      "metadata": {
        "id": "i-tplk50Wu6v"
      },
      "execution_count": null,
      "outputs": []
    }
  ]
}